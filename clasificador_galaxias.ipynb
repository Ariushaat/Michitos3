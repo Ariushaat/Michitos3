{
  "cells": [
    {
      "cell_type": "code",
      "execution_count": null,
      "metadata": {
        "id": "VG9kbp0lrty9"
      },
      "outputs": [],
      "source": [
        "import matplotlib.pyplot as plt\n",
        "\n",
        "import numpy as np\n",
        "\n",
        "from keras.layers import Input, Conv2D, MaxPooling2D#, UpSampling2D\n",
        "from keras.layers import Dropout, Flatten, Dense\n",
        "from keras.models import Model\n",
        "from keras import backend as K"
      ]
    },
    {
      "cell_type": "code",
      "execution_count": null,
      "metadata": {
        "id": "k9q-B3ytr74l"
      },
      "outputs": [],
      "source": [
        "K.set_image_data_format('channels_last')  # TF dimension ordering in this code"
      ]
    },
    {
      "cell_type": "code",
      "execution_count": null,
      "metadata": {
        "id": "D5F0xwLMr-7_"
      },
      "outputs": [],
      "source": [
        "#========================================================\n",
        "#   Simple image plotting routine\n",
        "#========================================================\n",
        "def tvscale(img, plot_size=(6,6)):\n",
        "    plt.rcParams['figure.figsize'] = plot_size\n",
        "    imgplot = plt.imshow(img,interpolation=\"none\",cmap='gray')\n",
        "    plt.axis('off')\n",
        "    plt.show()"
      ]
    },
    {
      "cell_type": "code",
      "execution_count": null,
      "metadata": {
        "id": "UpsBK1NpsS10"
      },
      "outputs": [],
      "source": [
        "def get_model(n_pix,n_filters):\n",
        "  input_img = Input(shape=(n_pix,n_pix,3))\n",
        "\n",
        "#---- Bloque\n",
        "  x1 = Conv2D(filters=n_filters, kernel_size=(3,3), strides=(1,1), activation='relu', padding='same', name='conv1')(input_img)\n",
        "  x2 = MaxPooling2D((2, 2), padding='same', name='maxpool1')(x1) # 64,64,16\n",
        "\n",
        "  x3 = Conv2D(filters=n_filters*2, kernel_size=(3,3), strides=(1,1), activation='relu', padding='same', name='conv2')(x2)\n",
        "  x4 = MaxPooling2D((2, 2), padding='same', name='maxpool2')(x3) # 64,64,16\n",
        "\n",
        "  x5 = Conv2D(filters=n_filters*4, kernel_size=(3,3), strides=(1,1), activation='relu', padding='same', name='conv3')(x4)\n",
        "  x6 = MaxPooling2D((2, 2), padding='same', name='maxpool3')(x5) # 64,64,16\n",
        "\n",
        "  x7 = Conv2D(filters=n_filters*8, kernel_size=(3,3), strides=(1,1), activation='relu', padding='same', name='conv4')(x6)\n",
        "  x8 = MaxPooling2D((2, 2), padding='same', name='maxpool4')(x7) # 64,64,16\n",
        "\n",
        "  flat = Flatten(name='flatten')(x8)\n",
        "  x9 = Dense(32, activation='relu', name='dense1')(flat)\n",
        "  x10 = Dropout(0.3, name='dropout')(x9)\n",
        "  out = Dense(1, activation='sigmoid', name='out')(x10)\n",
        "\n",
        "  _model = Model(inputs=input_img, outputs=out)\n",
        "  _model.compile(loss='binary_crossentropy', optimizer='adam', metrics=['accuracy'])\n",
        "\n",
        "  return _model\n"
      ]
    },
    {
      "cell_type": "code",
      "execution_count": null,
      "metadata": {
        "colab": {
          "base_uri": "https://localhost:8080/"
        },
        "id": "XTxTpwJjsEMU",
        "outputId": "0cc781c5-0b92-4b25-d123-52c3078b5bea"
      },
      "outputs": [
        {
          "output_type": "stream",
          "name": "stdout",
          "text": [
            "Mounted at /content/drive\n"
          ]
        }
      ],
      "source": [
        " from google.colab import drive\n",
        " drive.mount('/content/drive')"
      ]
    },
    {
      "cell_type": "code",
      "execution_count": null,
      "metadata": {
        "colab": {
          "base_uri": "https://localhost:8080/"
        },
        "id": "6FyrFmPypm_v",
        "outputId": "985c3759-7e4b-48b3-9438-d5dffecd685f"
      },
      "outputs": [
        {
          "output_type": "stream",
          "name": "stdout",
          "text": [
            "(301, 128, 128, 3)\n",
            "type <class 'numpy.uint8'>\n"
          ]
        }
      ],
      "source": [
        "X1 = np.load('/content/drive/MyDrive/cosmo-late.npy')\n",
        "X2 = np.load('/content/drive/MyDrive/cosmo-early.npy')\n",
        "\n",
        "print(X1.shape)\n",
        "print(\"type\", type(X1[0,0,0,0]))"
      ]
    },
    {
      "cell_type": "code",
      "execution_count": null,
      "metadata": {
        "colab": {
          "base_uri": "https://localhost:8080/"
        },
        "id": "d3dodPH5rYi7",
        "outputId": "9a807a5e-c34c-4948-b067-4d17c8df001f"
      },
      "outputs": [
        {
          "output_type": "stream",
          "name": "stdout",
          "text": [
            "(602,)\n"
          ]
        }
      ],
      "source": [
        "#--- Concatenate early and late sets. Simple pre-processing\n",
        "X = np.concatenate((X1,X2), axis=0)\n",
        "\n",
        "#--- IMPORTANT!!! Normalize and convert to floating point!!!\n",
        "X = X.astype(np.float32)/256.0\n",
        "\n",
        "#--- Assign classes\n",
        "Y = np.zeros((X.shape[0]))\n",
        "Y[0:len(X1)] = 1 #--- Late is 0, early 1\n",
        "print(Y.shape)\n",
        "\n",
        "\n",
        "#--- Get random indexes\n",
        "rand_ind = ( np.arange(0,X.shape[0]) )\n",
        "np.random.shuffle(rand_ind)\n",
        "\n",
        "#--- Shuffle data\n",
        "X = X[rand_ind]\n",
        "Y = Y[rand_ind]"
      ]
    },
    {
      "cell_type": "code",
      "execution_count": null,
      "metadata": {
        "id": "i2gcYZ32rdUE"
      },
      "outputs": [],
      "source": [
        "#--- Define training and test datasets\n",
        "\n",
        "X_train = X[50:]\n",
        "Y_train = Y[50:]\n",
        "\n",
        "X_test = X[0:50]\n",
        "Y_test = Y[0:50]"
      ]
    },
    {
      "cell_type": "code",
      "execution_count": null,
      "metadata": {
        "id": "PYmkqos1rhXo"
      },
      "outputs": [],
      "source": [
        "model = get_model(128,16)"
      ]
    },
    {
      "cell_type": "code",
      "execution_count": null,
      "metadata": {
        "colab": {
          "base_uri": "https://localhost:8080/"
        },
        "id": "h5GopY8prvhz",
        "outputId": "e02fa86b-ef37-409b-86ea-7948b28ed947"
      },
      "outputs": [
        {
          "output_type": "stream",
          "name": "stdout",
          "text": [
            "Epoch 1/29\n",
            "18/18 [==============================] - 13s 24ms/step - loss: 0.6208 - accuracy: 0.6721\n",
            "Epoch 2/29\n",
            "18/18 [==============================] - 0s 13ms/step - loss: 0.3194 - accuracy: 0.9058\n",
            "Epoch 3/29\n",
            "18/18 [==============================] - 0s 13ms/step - loss: 0.2902 - accuracy: 0.8931\n",
            "Epoch 4/29\n",
            "18/18 [==============================] - 0s 14ms/step - loss: 0.2316 - accuracy: 0.9312\n",
            "Epoch 5/29\n",
            "18/18 [==============================] - 0s 13ms/step - loss: 0.1864 - accuracy: 0.9312\n",
            "Epoch 6/29\n",
            "18/18 [==============================] - 0s 13ms/step - loss: 0.1494 - accuracy: 0.9493\n",
            "Epoch 7/29\n",
            "18/18 [==============================] - 0s 13ms/step - loss: 0.1537 - accuracy: 0.9384\n",
            "Epoch 8/29\n",
            "18/18 [==============================] - 0s 14ms/step - loss: 0.1385 - accuracy: 0.9583\n",
            "Epoch 9/29\n",
            "18/18 [==============================] - 0s 13ms/step - loss: 0.1281 - accuracy: 0.9601\n",
            "Epoch 10/29\n",
            "18/18 [==============================] - 0s 13ms/step - loss: 0.1032 - accuracy: 0.9674\n",
            "Epoch 11/29\n",
            "18/18 [==============================] - 0s 13ms/step - loss: 0.0797 - accuracy: 0.9692\n",
            "Epoch 12/29\n",
            "18/18 [==============================] - 0s 14ms/step - loss: 0.0752 - accuracy: 0.9764\n",
            "Epoch 13/29\n",
            "18/18 [==============================] - 0s 13ms/step - loss: 0.0470 - accuracy: 0.9855\n",
            "Epoch 14/29\n",
            "18/18 [==============================] - 0s 14ms/step - loss: 0.0450 - accuracy: 0.9873\n",
            "Epoch 15/29\n",
            "18/18 [==============================] - 0s 13ms/step - loss: 0.0583 - accuracy: 0.9819\n",
            "Epoch 16/29\n",
            "18/18 [==============================] - 0s 14ms/step - loss: 0.0490 - accuracy: 0.9801\n",
            "Epoch 17/29\n",
            "18/18 [==============================] - 0s 13ms/step - loss: 0.0602 - accuracy: 0.9819\n",
            "Epoch 18/29\n",
            "18/18 [==============================] - 0s 14ms/step - loss: 0.0323 - accuracy: 0.9891\n",
            "Epoch 19/29\n",
            "18/18 [==============================] - 0s 13ms/step - loss: 0.0237 - accuracy: 0.9946\n",
            "Epoch 20/29\n",
            "18/18 [==============================] - 0s 14ms/step - loss: 0.0361 - accuracy: 0.9964\n",
            "Epoch 21/29\n",
            "18/18 [==============================] - 0s 13ms/step - loss: 0.0202 - accuracy: 0.9964\n",
            "Epoch 22/29\n",
            "18/18 [==============================] - 0s 13ms/step - loss: 0.0245 - accuracy: 0.9909\n",
            "Epoch 23/29\n",
            "18/18 [==============================] - 0s 13ms/step - loss: 0.0205 - accuracy: 0.9928\n",
            "Epoch 24/29\n",
            "18/18 [==============================] - 0s 14ms/step - loss: 0.0466 - accuracy: 0.9837\n",
            "Epoch 25/29\n",
            "18/18 [==============================] - 0s 14ms/step - loss: 0.0255 - accuracy: 0.9891\n",
            "Epoch 26/29\n",
            "18/18 [==============================] - 0s 13ms/step - loss: 0.0251 - accuracy: 0.9873\n",
            "Epoch 27/29\n",
            "18/18 [==============================] - 0s 13ms/step - loss: 0.0128 - accuracy: 0.9964\n",
            "Epoch 28/29\n",
            "18/18 [==============================] - 0s 13ms/step - loss: 0.0076 - accuracy: 0.9982\n",
            "Epoch 29/29\n",
            "18/18 [==============================] - 0s 13ms/step - loss: 0.0124 - accuracy: 0.9964\n"
          ]
        }
      ],
      "source": [
        "history = model.fit(X_train, Y_train, batch_size=32, epochs=29, shuffle=True)"
      ]
    }
  ],
  "metadata": {
    "accelerator": "GPU",
    "colab": {
      "provenance": []
    },
    "kernelspec": {
      "display_name": "Python 3",
      "name": "python3"
    },
    "language_info": {
      "name": "python"
    }
  },
  "nbformat": 4,
  "nbformat_minor": 0
}